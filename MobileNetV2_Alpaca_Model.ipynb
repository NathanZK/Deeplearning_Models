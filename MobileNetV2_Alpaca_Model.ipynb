{
  "nbformat": 4,
  "nbformat_minor": 0,
  "metadata": {
    "colab": {
      "provenance": [],
      "authorship_tag": "ABX9TyO9TkyL9Nai/jx2xzTldLKJ",
      "include_colab_link": true
    },
    "kernelspec": {
      "name": "python3",
      "display_name": "Python 3"
    },
    "language_info": {
      "name": "python"
    },
    "gpuClass": "standard"
  },
  "cells": [
    {
      "cell_type": "markdown",
      "metadata": {
        "id": "view-in-github",
        "colab_type": "text"
      },
      "source": [
        "<a href=\"https://colab.research.google.com/github/NathanZK/MobileNet_model/blob/main/MobileNetV2_Alpaca_Model.ipynb\" target=\"_parent\"><img src=\"https://colab.research.google.com/assets/colab-badge.svg\" alt=\"Open In Colab\"/></a>"
      ]
    },
    {
      "cell_type": "markdown",
      "source": [
        "# Transfer Learning with MobileNetV2"
      ],
      "metadata": {
        "id": "IsbCIm88wVCA"
      }
    },
    {
      "cell_type": "code",
      "source": [
        "from google.colab import drive"
      ],
      "metadata": {
        "id": "mEJtmNz7n39S"
      },
      "execution_count": null,
      "outputs": []
    },
    {
      "cell_type": "code",
      "source": [
        "drive.mount('/content/drive')"
      ],
      "metadata": {
        "colab": {
          "base_uri": "https://localhost:8080/"
        },
        "id": "HiCk2P913u9l",
        "outputId": "a4892a2b-866b-4057-a714-8172db96d122"
      },
      "execution_count": null,
      "outputs": [
        {
          "output_type": "stream",
          "name": "stdout",
          "text": [
            "Mounted at /content/drive\n"
          ]
        }
      ]
    },
    {
      "cell_type": "markdown",
      "source": [
        "##1 - Packages"
      ],
      "metadata": {
        "id": "25O9Zl_Bf87k"
      }
    },
    {
      "cell_type": "code",
      "source": [
        "import matplotlib.pyplot as plt\n",
        "import numpy as np\n",
        "import os\n",
        "import tensorflow as tf\n",
        "import tensorflow.keras.layers as tfl\n",
        "from tensorflow.keras import layers\n",
        "\n",
        "from tensorflow.keras.utils import image_dataset_from_directory\n",
        "from tensorflow.keras.layers.experimental.preprocessing import RandomFlip, RandomRotation\n",
        "import logging\n",
        "logging.getLogger('tensorflow').setLevel(logging.ERROR)"
      ],
      "metadata": {
        "id": "4P1R2TM6nVYh"
      },
      "execution_count": null,
      "outputs": []
    },
    {
      "cell_type": "markdown",
      "source": [
        "###1.1 Create the Dataset and Split it into Training and Validation Sets"
      ],
      "metadata": {
        "id": "WuvJcKcQgOy2"
      }
    },
    {
      "cell_type": "code",
      "source": [
        "#Standardizing the Data\n",
        "BATCH_SIZE = 32\n",
        "IMG_SIZE = (160, 160)\n",
        "directory = \"/content/drive/MyDrive/MobileNet/dataset\"\n",
        "train_dataset = image_dataset_from_directory(directory,\n",
        "                                             shuffle=True,\n",
        "                                             batch_size=BATCH_SIZE,\n",
        "                                             image_size=IMG_SIZE,\n",
        "                                             validation_split=0.2,\n",
        "                                             subset='training',\n",
        "                                             seed=42)\n",
        "validation_dataset = image_dataset_from_directory(directory,\n",
        "                                             shuffle=True,\n",
        "                                             batch_size=BATCH_SIZE,\n",
        "                                             image_size=IMG_SIZE,\n",
        "                                             validation_split=0.2,\n",
        "                                             subset='validation',\n",
        "                                             seed=42)"
      ],
      "metadata": {
        "id": "al4T3aEa4mFY",
        "colab": {
          "base_uri": "https://localhost:8080/"
        },
        "outputId": "1a2c4cf9-556a-4613-aab9-36cfe17b6391"
      },
      "execution_count": null,
      "outputs": [
        {
          "output_type": "stream",
          "name": "stdout",
          "text": [
            "Found 328 files belonging to 2 classes.\n",
            "Using 263 files for training.\n",
            "Found 328 files belonging to 2 classes.\n",
            "Using 65 files for validation.\n"
          ]
        }
      ]
    },
    {
      "cell_type": "markdown",
      "source": [
        "Some of the images from the training set"
      ],
      "metadata": {
        "id": "DcL6chNIoehS"
      }
    },
    {
      "cell_type": "code",
      "source": [
        "class_names = train_dataset.class_names\n",
        "\n",
        "plt.figure(figsize=(10, 10))\n",
        "for images, labels in train_dataset.take(1):\n",
        "    for i in range(9):\n",
        "        ax = plt.subplot(3, 3, i + 1)\n",
        "        plt.imshow(images[i].numpy().astype(\"uint8\"))\n",
        "        plt.title(class_names[labels[i]])\n",
        "        plt.axis(\"off\")"
      ],
      "metadata": {
        "id": "qxMsQN6hk6Dp"
      },
      "execution_count": null,
      "outputs": []
    },
    {
      "cell_type": "markdown",
      "source": [
        "##2 - Preprocess and Augment Training Data"
      ],
      "metadata": {
        "id": "TUIk9StYozMU"
      }
    },
    {
      "cell_type": "code",
      "source": [
        "AUTOTUNE = tf.data.experimental.AUTOTUNE\n",
        "train_dataset = train_dataset.prefetch(buffer_size=AUTOTUNE)"
      ],
      "metadata": {
        "id": "pWrOVb7VoPLf"
      },
      "execution_count": null,
      "outputs": []
    },
    {
      "cell_type": "markdown",
      "source": [
        "###2.1 Data Augmentation"
      ],
      "metadata": {
        "id": "3s4AAlgjo-br"
      }
    },
    {
      "cell_type": "code",
      "source": [
        "# Random Data Augmentation\n",
        "data_augmentation = tf.keras.Sequential([\n",
        "  layers.RandomFlip(\"horizontal\"),\n",
        "  layers.RandomRotation(0.2),\n",
        "])"
      ],
      "metadata": {
        "id": "169E6oFOo8s7"
      },
      "execution_count": null,
      "outputs": []
    },
    {
      "cell_type": "code",
      "source": [
        "# for image, _ in train_dataset.take(1):\n",
        "#     plt.figure(figsize=(10, 10))\n",
        "#     first_image = image[1]\n",
        "#     for i in range(9):\n",
        "#         ax = plt.subplot(3, 3, i + 1)\n",
        "#         augmented_image = data_augmentation(tf.expand_dims(first_image, 0))\n",
        "#         plt.imshow(augmented_image[0] / 255)\n",
        "#         plt.axis('off')"
      ],
      "metadata": {
        "id": "_DJ7IFWWpyA3"
      },
      "execution_count": null,
      "outputs": []
    },
    {
      "cell_type": "code",
      "source": [
        "preprocess_input = tf.keras.applications.mobilenet_v2.preprocess_input"
      ],
      "metadata": {
        "id": "RjKGNdLKqpyV"
      },
      "execution_count": null,
      "outputs": []
    },
    {
      "cell_type": "markdown",
      "source": [
        "##3 - Using MobileNetV2 for Transfer Learning\n",
        "\n",
        "MobileNetV2 was trained on ImageNet and is optimized to run on mobile and other low-power applications. It's 155 layers deep and very efficient for object detection and image segmentation tasks, as well as classification tasks like this one. The architecture has three defining characteristics:\n",
        "\n",
        "- Depthwise separable convolutions\n",
        "- Thin input and output bottlenecks between layers\n",
        "- Shortcut connections between bottleneck layers"
      ],
      "metadata": {
        "id": "O4WmtLZDrPmP"
      }
    },
    {
      "cell_type": "code",
      "source": [
        "IMG_SHAPE = IMG_SIZE + (3,)\n",
        "base_model = tf.keras.applications.MobileNetV2(input_shape=IMG_SHAPE,\n",
        "                                               include_top=True,\n",
        "                                               weights='imagenet')"
      ],
      "metadata": {
        "id": "YQNj-nujrISS"
      },
      "execution_count": null,
      "outputs": []
    },
    {
      "cell_type": "code",
      "source": [
        "base_model.summary()"
      ],
      "metadata": {
        "id": "ILHIYEHHsDTi"
      },
      "execution_count": null,
      "outputs": []
    },
    {
      "cell_type": "code",
      "source": [
        "image_batch, label_batch = next(iter(train_dataset))\n",
        "feature_batch = base_model(image_batch)\n",
        "print(feature_batch.shape)"
      ],
      "metadata": {
        "colab": {
          "base_uri": "https://localhost:8080/"
        },
        "id": "WNQll717tmx0",
        "outputId": "958a526f-2378-467d-b330-14404e5e9a36"
      },
      "execution_count": null,
      "outputs": [
        {
          "output_type": "stream",
          "name": "stdout",
          "text": [
            "(32, 1000)\n"
          ]
        }
      ]
    },
    {
      "cell_type": "code",
      "source": [
        "#Shows the different label probabilities in one tensor \n",
        "label_batch"
      ],
      "metadata": {
        "colab": {
          "base_uri": "https://localhost:8080/"
        },
        "id": "68TDAaSEt1v-",
        "outputId": "1b90a21b-79c2-486d-8dc9-7e9cbd0b98ff"
      },
      "execution_count": null,
      "outputs": [
        {
          "output_type": "execute_result",
          "data": {
            "text/plain": [
              "<tf.Tensor: shape=(32,), dtype=int32, numpy=\n",
              "array([1, 1, 1, 0, 1, 1, 1, 1, 0, 0, 0, 0, 1, 0, 0, 1, 0, 0, 1, 0, 0, 1,\n",
              "       1, 1, 0, 0, 1, 0, 1, 0, 0, 1], dtype=int32)>"
            ]
          },
          "metadata": {},
          "execution_count": 34
        }
      ]
    },
    {
      "cell_type": "markdown",
      "source": [
        "Earlier, when you printed the shape of the batch, it would have returned (32, 1000). The number 32 refers to the batch size and 1000 refers to the 1000 classes the model was pretrained on. The predictions returned by the base model below follow this format:\n",
        "\n",
        "First the class number, then a human-readable label, and last the probability of the image belonging to that class. You'll notice that there are two of these returned for each image in the batch - these the top two probabilities returned for that image."
      ],
      "metadata": {
        "id": "3dRZ3xtYul3Q"
      }
    },
    {
      "cell_type": "code",
      "source": [
        "base_model.trainable = False\n",
        "image_var = tf.Variable(preprocess_input(image_batch))\n",
        "pred = base_model(image_var)\n",
        "\n",
        "tf.keras.applications.mobilenet_v2.decode_predictions(pred.numpy(), top=3)"
      ],
      "metadata": {
        "id": "ZxSnb4yLt63-"
      },
      "execution_count": null,
      "outputs": []
    },
    {
      "cell_type": "markdown",
      "source": [
        "###3.1 - Layer Freezing with the Functional API\n",
        "\n",
        "Steps to use on a pretrained model to modify the classifier task so that it's able to recognize alpacas. \n",
        "\n",
        "1. Delete the top layer (the classification layer)\n",
        "    * Set `include_top` in `base_model` as False\n",
        "2. Add a new classifier layer\n",
        "    * Train only one layer by freezing the rest of the network\n",
        "    * A single neuron is enough to solve a binary classification problem.\n",
        "3. Freeze the base model and train the newly-created classifier layer\n",
        "    * Set `base model.trainable=False` to avoid changing the weights and train *only* the new layer\n",
        "    * Set training in `base_model` to False to avoid keeping track of statistics in the batch norm layer"
      ],
      "metadata": {
        "id": "-RUhU4BPvEUI"
      }
    },
    {
      "cell_type": "markdown",
      "source": [
        "#### Alpaca model"
      ],
      "metadata": {
        "id": "IKGcYqUOw4s-"
      }
    },
    {
      "cell_type": "code",
      "source": [
        "def alpaca_model(image_shape=IMG_SIZE):    \n",
        "    input_shape = image_shape + (3,)\n",
        "    \n",
        "    base_model = tf.keras.applications.MobileNetV2(input_shape=input_shape,\n",
        "                                                   include_top=False, # <== Important!!!!\n",
        "                                                   weights='imagenet') # From imageNet\n",
        "    # freeze the base model by making it non trainable\n",
        "    base_model.trainable = False\n",
        "\n",
        "    # create the input layer (Same as the imageNetv2 input size)\n",
        "    inputs = tf.keras.Input(shape= input_shape) \n",
        "    \n",
        "    # apply data augmentation to the inputs\n",
        "    x = data_augmentation(inputs)\n",
        "    \n",
        "    # data preprocessing using the same weights the model was trained on\n",
        "    x = preprocess_input(x) \n",
        "    \n",
        "    # set training to False to avoid keeping track of statistics in the batch norm layer\n",
        "    x = base_model(x, training=False) \n",
        "    \n",
        "    # add the new Binary classification layers\n",
        "    # use global avg pooling to summarize the info in each channel\n",
        "    x = tfl.GlobalAveragePooling2D()(x) \n",
        "    # include dropout with probability of 0.2 to avoid overfitting\n",
        "    x = tfl.Dropout(0.2)(x)\n",
        "        \n",
        "    # use a prediction layer with one neuron (as a binary classifier only needs one)\n",
        "    outputs = tfl.Dense(1)(x)\n",
        "    \n",
        "    ### END CODE HERE\n",
        "    \n",
        "    model = tf.keras.Model(inputs, outputs)\n",
        "    \n",
        "    return model"
      ],
      "metadata": {
        "id": "-zFOXNu7upqU"
      },
      "execution_count": null,
      "outputs": []
    },
    {
      "cell_type": "code",
      "source": [
        "model2 = alpaca_model(IMG_SIZE)"
      ],
      "metadata": {
        "colab": {
          "base_uri": "https://localhost:8080/"
        },
        "id": "-i5PbaQaxGC6",
        "outputId": "d0db299d-6c43-4051-bb95-0109f6b94484"
      },
      "execution_count": null,
      "outputs": [
        {
          "output_type": "stream",
          "name": "stdout",
          "text": [
            "Downloading data from https://storage.googleapis.com/tensorflow/keras-applications/mobilenet_v2/mobilenet_v2_weights_tf_dim_ordering_tf_kernels_1.0_160_no_top.h5\n",
            "9406464/9406464 [==============================] - 0s 0us/step\n"
          ]
        }
      ]
    },
    {
      "cell_type": "code",
      "source": [
        "base_learning_rate = 0.001\n",
        "model2.compile(optimizer=tf.keras.optimizers.Adam(learning_rate=base_learning_rate),\n",
        "              loss=tf.keras.losses.BinaryCrossentropy(from_logits=True),\n",
        "              metrics=['accuracy'])"
      ],
      "metadata": {
        "id": "aR5Gpc4LxbVR"
      },
      "execution_count": null,
      "outputs": []
    },
    {
      "cell_type": "code",
      "source": [
        "initial_epochs = 5\n",
        "history = model2.fit(train_dataset, validation_data=validation_dataset, epochs=initial_epochs)"
      ],
      "metadata": {
        "colab": {
          "base_uri": "https://localhost:8080/"
        },
        "id": "rqMKJ2mbydba",
        "outputId": "aa3a4eb0-6325-4e4b-cca5-58a32216bcef"
      },
      "execution_count": null,
      "outputs": [
        {
          "output_type": "stream",
          "name": "stdout",
          "text": [
            "Epoch 1/5\n",
            "9/9 [==============================] - 27s 2s/step - loss: 0.6218 - accuracy: 0.6464 - val_loss: 0.4287 - val_accuracy: 0.8308\n",
            "Epoch 2/5\n",
            "9/9 [==============================] - 12s 970ms/step - loss: 0.5041 - accuracy: 0.7757 - val_loss: 0.3705 - val_accuracy: 0.7538\n",
            "Epoch 3/5\n",
            "9/9 [==============================] - 12s 1s/step - loss: 0.4727 - accuracy: 0.7224 - val_loss: 0.3251 - val_accuracy: 0.8000\n",
            "Epoch 4/5\n",
            "9/9 [==============================] - 11s 756ms/step - loss: 0.4346 - accuracy: 0.7871 - val_loss: 0.2972 - val_accuracy: 0.9231\n",
            "Epoch 5/5\n",
            "9/9 [==============================] - 12s 1s/step - loss: 0.3471 - accuracy: 0.8631 - val_loss: 0.2684 - val_accuracy: 0.8769\n"
          ]
        }
      ]
    },
    {
      "cell_type": "code",
      "source": [
        "acc = [0.] + history.history['accuracy']\n",
        "val_acc = [0.] + history.history['val_accuracy']\n",
        "\n",
        "loss = history.history['loss']\n",
        "val_loss = history.history['val_loss']\n",
        "\n",
        "plt.figure(figsize=(8, 8))\n",
        "plt.subplot(2, 1, 1)\n",
        "plt.plot(acc, label='Training Accuracy')\n",
        "plt.plot(val_acc, label='Validation Accuracy')\n",
        "plt.legend(loc='lower right')\n",
        "plt.ylabel('Accuracy')\n",
        "plt.ylim([min(plt.ylim()),1])\n",
        "plt.title('Training and Validation Accuracy')\n",
        "\n",
        "plt.subplot(2, 1, 2)\n",
        "plt.plot(loss, label='Training Loss')\n",
        "plt.plot(val_loss, label='Validation Loss')\n",
        "plt.legend(loc='upper right')\n",
        "plt.ylabel('Cross Entropy')\n",
        "plt.ylim([0,1.0])\n",
        "plt.title('Training and Validation Loss')\n",
        "plt.xlabel('epoch')\n",
        "plt.show()"
      ],
      "metadata": {
        "colab": {
          "base_uri": "https://localhost:8080/",
          "height": 513
        },
        "id": "f6oIOPc0zAS_",
        "outputId": "8c11afb8-67dc-4d17-8c4e-965e2de1b9fd"
      },
      "execution_count": null,
      "outputs": [
        {
          "output_type": "display_data",
          "data": {
            "text/plain": [
              "<Figure size 576x576 with 2 Axes>"
            ],
            "image/png": "[encoded data removed]"
          },
          "metadata": {
            "needs_background": "light"
          }
        }
      ]
    },
    {
      "cell_type": "code",
      "source": [
        "class_names"
      ],
      "metadata": {
        "colab": {
          "base_uri": "https://localhost:8080/"
        },
        "id": "8QvIuP370pat",
        "outputId": "b8630724-996c-4a1e-e041-5725b9e3a466"
      },
      "execution_count": null,
      "outputs": [
        {
          "output_type": "execute_result",
          "data": {
            "text/plain": [
              "['alpaca', 'not alpaca']"
            ]
          },
          "metadata": {},
          "execution_count": 47
        }
      ]
    },
    {
      "cell_type": "markdown",
      "source": [
        "### 3.2 - Fine-tuning the Model\n",
        "\n",
        "When you use a smaller learning rate, you take smaller steps to adapt it a little more closely to the new data. In transfer learning, the way you achieve this is by unfreezing the layers at the end of the network, and then re-training your model on the final layers with a very low learning rate. Adapting your learning rate to go over these layers in smaller steps can yield more fine details - and higher accuracy.\n",
        "\n",
        "The intuition for what's happening: when the network is in its earlier stages, it trains on low-level features, like edges. In the later layers, more complex, high-level features like wispy hair or pointy ears begin to emerge. For transfer learning, the low-level features can be kept the same, as they have common features for most images. When you add new data, you generally want the high-level features to adapt to it, which is rather like letting the network learn to detect features more related to your data, such as soft fur or big teeth. \n",
        "\n",
        "To achieve this, just unfreeze the final layers and re-run the optimizer with a smaller learning rate, while keeping all the other layers frozen.\n",
        "\n",
        "Where the final layers actually begin is a bit arbitrary, so feel free to play around with this number a bit. The important takeaway is that the later layers are the part of your network that contain the fine details (pointy ears, hairy tails) that are more specific to your problem.\n",
        "\n",
        "First, unfreeze the base model by setting `base_model.trainable=True`, set a layer to fine-tune from, then re-freeze all the layers before it. Run it again for another few epochs, and see if your accuracy improved!"
      ],
      "metadata": {
        "id": "Dtbl8xZn1deT"
      }
    },
    {
      "cell_type": "code",
      "source": [
        "base_model = model2.layers[4]\n",
        "base_model.trainable = True\n",
        "# Let's take a look to see how many layers are in the base model\n",
        "print(\"Number of layers in the base model: \", len(base_model.layers))\n",
        "\n",
        "# Fine-tune from this layer onwards\n",
        "fine_tune_at = 130\n",
        "\n",
        "# Freeze all the layers before the `fine_tune_at` layer\n",
        "for layer in base_model.layers[:fine_tune_at]:\n",
        "    layer.trainable = False\n",
        "    \n",
        "# Define a BinaryCrossentropy loss function. Use from_logits=True\n",
        "loss_function=tf.keras.losses.BinaryCrossentropy(from_logits=True)\n",
        "# Define an Adam optimizer with a learning rate of 0.1 * base_learning_rate\n",
        "optimizer = tf.keras.optimizers.Adam(learning_rate=0.1* base_learning_rate)\n",
        "# Use accuracy as evaluation metric\n",
        "metrics=['accuracy']\n",
        "\n",
        "model2.compile(loss=loss_function,\n",
        "              optimizer = optimizer,\n",
        "              metrics=metrics)"
      ],
      "metadata": {
        "colab": {
          "base_uri": "https://localhost:8080/"
        },
        "id": "PPJPq2hs1X1p",
        "outputId": "accded6a-3121-4b1d-84f0-1a6d671c89c9"
      },
      "execution_count": null,
      "outputs": [
        {
          "output_type": "stream",
          "name": "stdout",
          "text": [
            "Number of layers in the base model:  154\n"
          ]
        }
      ]
    },
    {
      "cell_type": "code",
      "source": [
        "fine_tune_epochs = 5\n",
        "total_epochs =  initial_epochs + fine_tune_epochs\n",
        "\n",
        "history_fine = model2.fit(train_dataset,\n",
        "                         epochs=total_epochs,\n",
        "                         initial_epoch=history.epoch[-1],\n",
        "                         validation_data=validation_dataset)"
      ],
      "metadata": {
        "colab": {
          "base_uri": "https://localhost:8080/"
        },
        "id": "jmL_XAA82nNQ",
        "outputId": "1940bbd1-abfd-4f8b-f5f5-938b86b5b633"
      },
      "execution_count": null,
      "outputs": [
        {
          "output_type": "stream",
          "name": "stdout",
          "text": [
            "Epoch 5/10\n",
            "9/9 [==============================] - 22s 1s/step - loss: 0.0807 - accuracy: 0.9658 - val_loss: 0.1891 - val_accuracy: 0.9385\n",
            "Epoch 6/10\n",
            "9/9 [==============================] - 12s 1s/step - loss: 0.0387 - accuracy: 0.9886 - val_loss: 0.1634 - val_accuracy: 0.9692\n",
            "Epoch 7/10\n",
            "9/9 [==============================] - 13s 1s/step - loss: 0.0217 - accuracy: 0.9924 - val_loss: 0.1712 - val_accuracy: 0.9538\n",
            "Epoch 8/10\n",
            "9/9 [==============================] - 15s 1s/step - loss: 0.0480 - accuracy: 0.9810 - val_loss: 0.1721 - val_accuracy: 0.9692\n",
            "Epoch 9/10\n",
            "9/9 [==============================] - 13s 1s/step - loss: 0.0196 - accuracy: 0.9848 - val_loss: 0.1812 - val_accuracy: 0.9538\n",
            "Epoch 10/10\n",
            "9/9 [==============================] - 12s 1s/step - loss: 0.0163 - accuracy: 1.0000 - val_loss: 0.1735 - val_accuracy: 0.9692\n"
          ]
        }
      ]
    },
    {
      "cell_type": "code",
      "source": [
        "acc += history_fine.history['accuracy']\n",
        "val_acc += history_fine.history['val_accuracy']\n",
        "\n",
        "loss += history_fine.history['loss']\n",
        "val_loss += history_fine.history['val_loss']"
      ],
      "metadata": {
        "id": "AaqQhGm14Xxz"
      },
      "execution_count": null,
      "outputs": []
    },
    {
      "cell_type": "code",
      "source": [
        "plt.figure(figsize=(8, 8))\n",
        "plt.subplot(2, 1, 1)\n",
        "plt.plot(acc, label='Training Accuracy')\n",
        "plt.plot(val_acc, label='Validation Accuracy')\n",
        "plt.ylim([0, 1])\n",
        "plt.plot([initial_epochs-1,initial_epochs-1],\n",
        "          plt.ylim(), label='Start Fine Tuning')\n",
        "plt.legend(loc='lower right')\n",
        "plt.title('Training and Validation Accuracy')\n",
        "\n",
        "plt.subplot(2, 1, 2)\n",
        "plt.plot(loss, label='Training Loss')\n",
        "plt.plot(val_loss, label='Validation Loss')\n",
        "plt.ylim([0, 1.0])\n",
        "plt.plot([initial_epochs-1,initial_epochs-1],\n",
        "         plt.ylim(), label='Start Fine Tuning')\n",
        "plt.legend(loc='upper right')\n",
        "plt.title('Training and Validation Loss')\n",
        "plt.xlabel('epoch')\n",
        "plt.show()"
      ],
      "metadata": {
        "colab": {
          "base_uri": "https://localhost:8080/",
          "height": 513
        },
        "id": "B_XC5YpD4_jf",
        "outputId": "6b3f3108-a79e-4cb4-8871-9ab7fbd0128f"
      },
      "execution_count": null,
      "outputs": [
        {
          "output_type": "display_data",
          "data": {
            "text/plain": [
              "<Figure size 576x576 with 2 Axes>"
            ],
            "image/png": "[encoded data removed]"
          },
          "metadata": {
            "needs_background": "light"
          }
        }
      ]
    },
    {
      "cell_type": "code",
      "source": [
        "# Save the trained model\n",
        "model2.save('alpaca_model.h5')"
      ],
      "metadata": {
        "id": "w8p6J2F65aGh"
      },
      "execution_count": null,
      "outputs": []
    },
    {
      "cell_type": "code",
      "source": [],
      "metadata": {
        "id": "AoVnIDSJ7R7b"
      },
      "execution_count": null,
      "outputs": []
    }
  ]
}